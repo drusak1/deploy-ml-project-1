{
 "cells": [
  {
   "cell_type": "markdown",
   "metadata": {
    "colab_type": "text",
    "id": "QP38QZmetiOF"
   },
   "source": [
    "## Архитектура MLflow\n",
    "\n",
    "### Компонтенты MLflow и их задачи\n",
    "\n",
    " - MLflow Project - создание среды для экспериментов, группировка экспериментов.\n",
    " - MLflow Tracking - фиксация параметров и метрик качества экспериментов.\n",
    " - MLflow Models - подготовка версии модели к дистрибуции.\n",
    " - MLflow Registry - централизованное хранилище моделей и выкладка в эксплуатацию.\n",
    "\n",
    "#### MLflow Projects\n",
    "\n",
    "- Настройка окружения:\n",
    "\t- языки программирования\n",
    "\t- менеджер пакетов (например, conda)\n",
    "\t- зависимости (библиотеки xgboost, scikit-learn, ...)\n",
    "\n",
    "- Описание окружения (Infrastructure as code):\n",
    "\t- различные ОС\n",
    "\t- локальное окружение\n",
    "\t- облачные сервисы\n",
    "\n",
    "#### MLflow Tracking\n",
    "\n",
    "Фиксирует все, что связано с запуском модели:\n",
    " - Наборы данных (для обучения и тестирования)\n",
    " - Наборы параметров (например, количество деревьев, слоев, L1/L2)\n",
    " - Значения метрик качества\n",
    " - Скорость работы и прочие технические метрики\n",
    "\n",
    "#### MLflow Models\n",
    "\n",
    "Cериализует артефакты моделей устраняя необходимость дополнительной разработки\n",
    "\n",
    "#### MLflow Registry\n",
    "\n",
    " - Централизованное хранение версий моделей для удобного поиска.\n",
    " - Информация о том, какая модель используется на какой среде\n",
    " - История всех версий и их использования в средах\n",
    "\n"
   ]
  },
  {
   "cell_type": "code",
   "execution_count": 2,
   "metadata": {
    "colab": {},
    "colab_type": "code",
    "id": "sG2RbzP8tiOH"
   },
   "outputs": [
    {
     "name": "stdout",
     "output_type": "stream",
     "text": [
      "Overwriting MLproject\n"
     ]
    }
   ],
   "source": [
    "%%writefile MLproject\n",
    "name: tutorial\n",
    "\n",
    "conda_env: conda.yaml\n",
    "\n",
    "entry_points:\n",
    "  main:\n",
    "    parameters:\n",
    "      alpha: float\n",
    "      l1_ratio: {type: float, default: 0.1}\n",
    "    command: \"python train.py {alpha} {l1_ratio}\""
   ]
  },
  {
   "cell_type": "code",
   "execution_count": 3,
   "metadata": {
    "colab": {},
    "colab_type": "code",
    "id": "pLbCF8xMtiOL"
   },
   "outputs": [
    {
     "name": "stdout",
     "output_type": "stream",
     "text": [
      "Writing conda.yaml\n"
     ]
    }
   ],
   "source": [
    "%%writefile conda.yaml\n",
    "name: tutorial\n",
    "channels:\n",
    "  - defaults\n",
    "dependencies:\n",
    "  - numpy>=1.14.3\n",
    "  - pandas>=1.0.0\n",
    "  - scikit-learn=0.19.1\n",
    "  - pip\n",
    "  - pip:\n",
    "    - mlflow"
   ]
  },
  {
   "cell_type": "markdown",
   "metadata": {},
   "source": [
    "дата сет можно найти здесь https://www.kaggle.com/datasets/uciml/red-wine-quality-cortez-et-al-2009"
   ]
  },
  {
   "cell_type": "code",
   "execution_count": 4,
   "metadata": {
    "colab": {},
    "colab_type": "code",
    "id": "71EbeHxctiOO"
   },
   "outputs": [],
   "source": [
    "import os\n",
    "import sys\n",
    "import warnings\n",
    "from pprint import pprint\n",
    "\n",
    "import pandas as pd\n",
    "import numpy as np\n",
    "from sklearn.metrics import mean_squared_error, mean_absolute_error, r2_score\n",
    "from sklearn.model_selection import train_test_split\n",
    "from sklearn.linear_model import ElasticNet\n",
    "\n",
    "import mlflow\n",
    "import mlflow.sklearn\n",
    "\n",
    "MLFLOW_SERVER_URL = 'http://127.0.0.1:5000/'\n",
    "\n",
    "warnings.filterwarnings(\"ignore\")\n",
    "np.random.seed(40)\n",
    "data = pd.read_csv(\"wine-quality.csv\")\n",
    "\n",
    "train, test = train_test_split(data)\n",
    "\n",
    "train_x = train.drop([\"quality\"], axis=1)\n",
    "test_x = test.drop([\"quality\"], axis=1)\n",
    "train_y = train[[\"quality\"]]\n",
    "test_y = test[[\"quality\"]]"
   ]
  },
  {
   "cell_type": "markdown",
   "metadata": {
    "colab_type": "text",
    "id": "bYpEklGEtiON"
   },
   "source": [
    "### Создание и запуск эксперимента\n",
    "\n",
    "Код самого эксперимента не зависит от MLflow, можно использовать уже готовый код.\n",
    "\n",
    "Чтобы зафиксировать параметры запуска и метрики модели, нужно запустить обучение в рамках эксперимента и проекта.\n",
    "\n",
    "`tracking_url` - адрес поднятого `mlflow` сервера, который будет использоваться для хранения экспериментов. Также по этому адресу доступен веб-интерфейс для просмотра результатов запусков."
   ]
  },
  {
   "cell_type": "code",
   "execution_count": 5,
   "metadata": {
    "colab": {},
    "colab_type": "code",
    "id": "drfGPepntiOR"
   },
   "outputs": [
    {
     "name": "stdout",
     "output_type": "stream",
     "text": [
      "INFO: 'experiment2' does not exist. Creating a new experiment\n",
      "Elasticnet model (alpha=0.500000, l1_ratio=0.500000):\n",
      "  RMSE: 0.82224284976\n",
      "  MAE: 0.627876141016\n",
      "  R2: 0.126787219728\n"
     ]
    }
   ],
   "source": [
    "# подключаемся к серверу\n",
    "mlflow.set_tracking_uri(MLFLOW_SERVER_URL)\n",
    "\n",
    "experiment_name = 'experiment2'\n",
    "mlflow.set_experiment(experiment_name)\n",
    "\n",
    "# запуск в эксперименте\n",
    "with mlflow.start_run():\n",
    "    alpha = 0.5\n",
    "    l1_ratio = 0.5\n",
    "\n",
    "    # модель\n",
    "    lr = ElasticNet(alpha=alpha, l1_ratio=l1_ratio, random_state=42)\n",
    "    lr.fit(train_x, train_y)\n",
    "\n",
    "    # метрики\n",
    "    predicted_qualities = lr.predict(test_x)\n",
    "    rmse = np.sqrt(mean_squared_error(test_y, predicted_qualities))\n",
    "    mae = mean_absolute_error(test_y, predicted_qualities)\n",
    "    r2 = r2_score(test_y, predicted_qualities)\n",
    "\n",
    "    print(\"Elasticnet model (alpha=%f, l1_ratio=%f):\" % (alpha, l1_ratio))\n",
    "    print(\"  RMSE: %s\" % rmse)\n",
    "    print(\"  MAE: %s\" % mae)\n",
    "    print(\"  R2: %s\" % r2)\n",
    "\n",
    "    # сохраняем значения эксперимента в системе\n",
    "    mlflow.log_param(\"alpha\", alpha)\n",
    "    mlflow.log_param(\"l1_ratio\", l1_ratio)\n",
    "    mlflow.log_metric(\"rmse\", rmse)\n",
    "    mlflow.log_metric(\"r2\", r2)\n",
    "    mlflow.log_metric(\"mae\", mae)\n",
    "\n",
    "    mlflow.sklearn.log_model(lr, \"model\")"
   ]
  },
  {
   "cell_type": "markdown",
   "metadata": {
    "colab_type": "text",
    "id": "sIYTUGvStiOU"
   },
   "source": [
    "Запуск успешного эксперимента можно подготовить к вводу в эксплуатацию.\n",
    "\n",
    "Для этого используется  `MLflow Model Registry`."
   ]
  },
  {
   "cell_type": "markdown",
   "metadata": {
    "colab_type": "text",
    "id": "50MQhVLYtiOU"
   },
   "source": [
    "### Просмотр проведенных экспериментов и выбор кандидата на ввод в эксплуатацию\n",
    "\n",
    "Чтобы получить информацию о запусках экспериментов, нужно создать клиент `mlflow.tracking.MlflowClient`, затем выбрать нужный эксперимент и выбрать искомый запуск эксперимента.\n",
    "\n",
    "В коде ниже берется последний запуск эксперимента из списка всех запусков."
   ]
  },
  {
   "cell_type": "code",
   "execution_count": 6,
   "metadata": {
    "colab": {},
    "colab_type": "code",
    "id": "w8dYq2YjtiOV"
   },
   "outputs": [
    {
     "name": "stdout",
     "output_type": "stream",
     "text": [
      "<Experiment: artifact_location='./mlruns/1', experiment_id='1', lifecycle_stage='active', name='experiment2', tags={}>\n",
      "<RunInfo: artifact_uri='./mlruns/1/fc32649252bc47388aaf8c46a9b69b1b/artifacts', end_time=1605466453616, experiment_id='1', lifecycle_stage='active', run_id='fc32649252bc47388aaf8c46a9b69b1b', run_uuid='fc32649252bc47388aaf8c46a9b69b1b', start_time=1605466453301, status='FINISHED', user_id='jovyan'>\n"
     ]
    }
   ],
   "source": [
    "client = mlflow.tracking.MlflowClient(MLFLOW_SERVER_URL)\n",
    "experiment = client.get_experiment_by_name(experiment_name)\n",
    "run_info = client.list_run_infos(experiment.experiment_id)[-1]\n",
    "\n",
    "print(experiment)\n",
    "print(run_info)"
   ]
  },
  {
   "cell_type": "markdown",
   "metadata": {
    "colab_type": "text",
    "id": "fZvbsRvmtiOY"
   },
   "source": [
    "### Регистрация модели в MLflow Model Registry\n",
    "\n",
    "Регистрация модели также доступна в веб-интерфейсе. Для этого нужно выбрать модель на странице экспериментов и нажать `Register Model`.\n",
    "\n",
    "Ниже приведен код, совершающий аналогичное действие."
   ]
  },
  {
   "cell_type": "code",
   "execution_count": 7,
   "metadata": {
    "colab": {},
    "colab_type": "code",
    "id": "W0_CPO7-tiOZ"
   },
   "outputs": [
    {
     "name": "stderr",
     "output_type": "stream",
     "text": [
      "2020/11/15 18:54:13 INFO mlflow.tracking._model_registry.client: Waiting up to 300 seconds for model version to finish creation.                     Model name: sk-learn-new-model, version 1\n"
     ]
    },
    {
     "name": "stdout",
     "output_type": "stream",
     "text": [
      "<ModelVersion: creation_timestamp=1605466453678, current_stage='None', description='', last_updated_timestamp=1605466453678, name='sk-learn-new-model', run_id='fc32649252bc47388aaf8c46a9b69b1b', run_link='', source='./mlruns/1/fc32649252bc47388aaf8c46a9b69b1b/artifacts/model', status='READY', status_message='', tags={}, user_id='', version='1'>\n"
     ]
    }
   ],
   "source": [
    "reg_model_name = \"sk-learn-new-model\"\n",
    "\n",
    "# региструем модель\n",
    "client.create_registered_model(reg_model_name)\n",
    "# создаем первую версию\n",
    "result = client.create_model_version(\n",
    "    name=reg_model_name,\n",
    "    source=f\"{run_info.artifact_uri}/model\",\n",
    "    run_id=run_info.run_id\n",
    ")\n",
    "\n",
    "print(result)"
   ]
  },
  {
   "cell_type": "markdown",
   "metadata": {
    "colab_type": "text",
    "id": "uxjSecYuvS10"
   },
   "source": [
    "Посмотреть список зарегистрированных моделей можно следующим образом:"
   ]
  },
  {
   "cell_type": "code",
   "execution_count": 8,
   "metadata": {
    "colab": {},
    "colab_type": "code",
    "id": "jwFxns_NvPdZ"
   },
   "outputs": [
    {
     "name": "stdout",
     "output_type": "stream",
     "text": [
      "{   'creation_timestamp': 1605466453668,\n",
      "    'description': '',\n",
      "    'last_updated_timestamp': 1605466453678,\n",
      "    'latest_versions': [   <ModelVersion: creation_timestamp=1605466453678, current_stage='None', description='', last_updated_timestamp=1605466453678, name='sk-learn-new-model', run_id='fc32649252bc47388aaf8c46a9b69b1b', run_link='', source='./mlruns/1/fc32649252bc47388aaf8c46a9b69b1b/artifacts/model', status='READY', status_message='', tags={}, user_id='', version='1'>],\n",
      "    'name': 'sk-learn-new-model',\n",
      "    'tags': {}}\n"
     ]
    }
   ],
   "source": [
    "for rm in client.list_registered_models():\n",
    "    pprint(dict(rm), indent=4)"
   ]
  },
  {
   "cell_type": "markdown",
   "metadata": {
    "colab_type": "text",
    "id": "TniouHOOvhs9"
   },
   "source": [
    "Найти нужную модель и версию можно с помощью специальной функции:"
   ]
  },
  {
   "cell_type": "code",
   "execution_count": 9,
   "metadata": {
    "colab": {},
    "colab_type": "code",
    "id": "z18vS9jJvg7d"
   },
   "outputs": [
    {
     "name": "stdout",
     "output_type": "stream",
     "text": [
      "{   'creation_timestamp': 1605466453678,\n",
      "    'current_stage': 'None',\n",
      "    'description': '',\n",
      "    'last_updated_timestamp': 1605466453678,\n",
      "    'name': 'sk-learn-new-model',\n",
      "    'run_id': 'fc32649252bc47388aaf8c46a9b69b1b',\n",
      "    'run_link': '',\n",
      "    'source': './mlruns/1/fc32649252bc47388aaf8c46a9b69b1b/artifacts/model',\n",
      "    'status': 'READY',\n",
      "    'status_message': '',\n",
      "    'tags': {},\n",
      "    'user_id': '',\n",
      "    'version': '1'}\n"
     ]
    }
   ],
   "source": [
    "for mv in client.search_model_versions(f\"name='{reg_model_name}'\"):\n",
    "    pprint(dict(mv), indent=4)"
   ]
  },
  {
   "cell_type": "markdown",
   "metadata": {
    "colab_type": "text",
    "id": "I2EsnX4etiOc"
   },
   "source": [
    "### Выкладка модели в тестовую и эксплуатационную среды\n",
    "\n",
    "Терминология, использующаяся в MLflow Model Registry:\n",
    "\n",
    " - Staging - тестовая среда\n",
    " - Production - эксплуатационная среда\n",
    " \n",
    "Следующий код переводит ранее зарегистрированную модель версии `1` в тестовую среду (`Staging`)."
   ]
  },
  {
   "cell_type": "code",
   "execution_count": 10,
   "metadata": {
    "colab": {},
    "colab_type": "code",
    "id": "uSKSKPpwtiOc"
   },
   "outputs": [
    {
     "data": {
      "text/plain": [
       "<ModelVersion: creation_timestamp=1605466453678, current_stage='Staging', description='', last_updated_timestamp=1605466453716, name='sk-learn-new-model', run_id='fc32649252bc47388aaf8c46a9b69b1b', run_link='', source='./mlruns/1/fc32649252bc47388aaf8c46a9b69b1b/artifacts/model', status='READY', status_message='', tags={}, user_id='', version='1'>"
      ]
     },
     "execution_count": 10,
     "metadata": {},
     "output_type": "execute_result"
    }
   ],
   "source": [
    "client.transition_model_version_stage(\n",
    "    name=reg_model_name,\n",
    "    version=1,\n",
    "    stage=\"Staging\"\n",
    ")"
   ]
  },
  {
   "cell_type": "markdown",
   "metadata": {
    "colab_type": "text",
    "id": "sRPuKGdH2z_w"
   },
   "source": [
    "Проверить результат можно следующим кодом:"
   ]
  },
  {
   "cell_type": "code",
   "execution_count": 11,
   "metadata": {
    "colab": {},
    "colab_type": "code",
    "id": "TZdlt7BC23a5"
   },
   "outputs": [
    {
     "name": "stdout",
     "output_type": "stream",
     "text": [
      "{   'creation_timestamp': 1605466453678,\n",
      "    'current_stage': 'Staging',\n",
      "    'description': '',\n",
      "    'last_updated_timestamp': 1605466453716,\n",
      "    'name': 'sk-learn-new-model',\n",
      "    'run_id': 'fc32649252bc47388aaf8c46a9b69b1b',\n",
      "    'run_link': '',\n",
      "    'source': './mlruns/1/fc32649252bc47388aaf8c46a9b69b1b/artifacts/model',\n",
      "    'status': 'READY',\n",
      "    'status_message': '',\n",
      "    'tags': {},\n",
      "    'user_id': '',\n",
      "    'version': '1'}\n"
     ]
    }
   ],
   "source": [
    "for mv in client.search_model_versions(f\"name='{reg_model_name}'\"):\n",
    "    pprint(dict(mv), indent=4)"
   ]
  },
  {
   "cell_type": "markdown",
   "metadata": {
    "colab_type": "text",
    "id": "1sHABAzotiOf"
   },
   "source": [
    "Чтобы использовать модель, нужно запустить веб-сервер, в качестве параметров передать ему название модели и среды, а также порт\n",
    "Для взаимодействия с веб-сервером следует отправлять запросы к точке входа `/invocations` этого веб-сервера."
   ]
  },
  {
   "cell_type": "code",
   "execution_count": 12,
   "metadata": {
    "colab": {},
    "colab_type": "code",
    "id": "uBCKeROStiOg"
   },
   "outputs": [
    {
     "data": {
      "text/plain": [
       "0"
      ]
     },
     "execution_count": 12,
     "metadata": {},
     "output_type": "execute_result"
    }
   ],
   "source": [
    "os.system('MLFLOW_TRACKING_URI=http://127.0.0.1:5000/ mlflow models serve -m \"models:/sk-learn-new-model/Staging\" -p 5005 --no-conda &')"
   ]
  },
  {
   "cell_type": "code",
   "execution_count": 14,
   "metadata": {
    "colab": {},
    "colab_type": "code",
    "id": "-Y6gZTi2tiOi"
   },
   "outputs": [
    {
     "name": "stdout",
     "output_type": "stream",
     "text": [
      "Predictions: [5.88527611335971, 5.740523335804658, 5.811935039818762, 5.957850132893952, 6.092739574397946, 5.381768818172121, 6.050858460676247, 5.992469597297116, 5.850426199303677, 5.627508796953737]\n"
     ]
    }
   ],
   "source": [
    "import requests\n",
    "\n",
    "url = f'http://127.0.0.1:5005/invocations'\n",
    "\n",
    "http_data = test_x[:10].to_json(orient='split')\n",
    "response = requests.post(url=url, headers={'Content-Type': 'application/json'}, data=http_data)\n",
    "\n",
    "print(f'Predictions: {response.text}')"
   ]
  },
  {
   "cell_type": "code",
   "execution_count": null,
   "metadata": {},
   "outputs": [],
   "source": []
  }
 ],
 "metadata": {
  "colab": {
   "collapsed_sections": [],
   "name": "mlflow-e2e.ipynb",
   "provenance": []
  },
  "kernelspec": {
   "display_name": "Python 3",
   "language": "python",
   "name": "python3"
  },
  "language_info": {
   "codemirror_mode": {
    "name": "ipython",
    "version": 3
   },
   "file_extension": ".py",
   "mimetype": "text/x-python",
   "name": "python",
   "nbconvert_exporter": "python",
   "pygments_lexer": "ipython3",
   "version": "3.6.5"
  }
 },
 "nbformat": 4,
 "nbformat_minor": 1
}
